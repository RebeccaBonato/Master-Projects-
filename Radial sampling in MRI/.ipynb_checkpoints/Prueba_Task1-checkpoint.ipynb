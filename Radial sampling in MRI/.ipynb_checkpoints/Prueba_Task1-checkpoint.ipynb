{
 "cells": [
  {
   "cell_type": "code",
   "execution_count": null,
   "id": "05a8d2e3",
   "metadata": {},
   "outputs": [],
   "source": [
    "import numpy as np\n",
    "import matplotlib.pyplot as plt\n",
    "\n",
    "import sigpy as sp\n",
    "from sigpy.mri import samp\n",
    "import sigpy.plot as pl\n",
    "\n",
    "\n",
    "def fftc_2d(_data):\n",
    "    data = _data.copy()\n",
    "    data = np.fft.ifftshift(data)\n",
    "    data = np.fft.fft2(data, norm=\"ortho\")\n",
    "    return np.fft.fftshift(data)    \n",
    "\n",
    "def ifftc_2d(_data):\n",
    "    data = _data.copy()\n",
    "    data = np.fft.ifftshift(data)\n",
    "    data = np.fft.ifft2(data, norm=\"ortho\")\n",
    "    return np.fft.fftshift(data)    \n",
    "\n",
    "def show_image(image):\n",
    "    plt.figure()\n",
    "    plt.imshow(np.abs(image), cmap='gray')\n",
    "    plt.show()\n",
    "\n",
    "def show_kspace(kspace):\n",
    "    plt.figure()\n",
    "    plt.imshow(np.log(np.abs(kspace)), cmap='gray')\n",
    "    plt.show()\n",
    "\n",
    "# create shepp-logan image and k-space\n",
    "image_shape = (160, 160)\n",
    "shepp_image = sp.shepp_logan(image_shape)\n",
    "show_image(shepp_image)\n",
    "shepp_kspace = fftc_2d(shepp_image)\n",
    "show_kspace(shepp_kspace)\n",
    "\n",
    "# sample as radial style\n",
    "spoke_num, sample_num = 60, 160\n",
    "coord_shepp = samp.radial([spoke_num, sample_num, 2], image_shape)\n",
    "pl.ScatterPlot(coord_shepp, title='Trajectory')\n",
    "\n",
    "# if no offset to the coord, no image can be reconstructed\n",
    "# BUT the k-space is very strange (the data in middle column shall have the largest magitude)\n",
    "coord_offset = 80\n",
    "kspace_nu = sp.interpolate(shepp_kspace, coord_shepp + coord_offset)\n",
    "show_kspace(kspace_nu)\n",
    "\n",
    "dcf_nu = (coord_shepp[..., 0]**2 + coord_shepp[..., 1]**2)**0.5\n",
    "image_nu = sp.nufft_adjoint(kspace_nu * dcf_nu, coord_shepp)\n",
    "show_image(image_nu)"
   ]
  }
 ],
 "metadata": {
  "kernelspec": {
   "display_name": "Python 3 (ipykernel)",
   "language": "python",
   "name": "python3"
  },
  "language_info": {
   "codemirror_mode": {
    "name": "ipython",
    "version": 3
   },
   "file_extension": ".py",
   "mimetype": "text/x-python",
   "name": "python",
   "nbconvert_exporter": "python",
   "pygments_lexer": "ipython3",
   "version": "3.9.1"
  }
 },
 "nbformat": 4,
 "nbformat_minor": 5
}
