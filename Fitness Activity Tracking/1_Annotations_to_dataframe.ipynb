{
 "cells": [
  {
   "cell_type": "markdown",
   "id": "dee2ec92",
   "metadata": {},
   "source": [
    "# Libraries"
   ]
  },
  {
   "cell_type": "code",
   "execution_count": 1,
   "id": "057aab1c",
   "metadata": {},
   "outputs": [],
   "source": [
    "import pandas as pd\n",
    "import matplotlib.pyplot as plt\n",
    "import os"
   ]
  },
  {
   "cell_type": "markdown",
   "id": "b1f59dcc",
   "metadata": {},
   "source": [
    "# Annotations table"
   ]
  },
  {
   "cell_type": "markdown",
   "id": "bdac8a03",
   "metadata": {},
   "source": [
    "This part is a first visualisation of the table"
   ]
  },
  {
   "cell_type": "code",
   "execution_count": 2,
   "id": "8f8c6d60",
   "metadata": {},
   "outputs": [],
   "source": [
    "df = pd.read_csv('Annotations.csv')"
   ]
  },
  {
   "cell_type": "code",
   "execution_count": 3,
   "id": "2f08897a",
   "metadata": {},
   "outputs": [
    {
     "data": {
      "text/html": [
       "<div>\n",
       "<style scoped>\n",
       "    .dataframe tbody tr th:only-of-type {\n",
       "        vertical-align: middle;\n",
       "    }\n",
       "\n",
       "    .dataframe tbody tr th {\n",
       "        vertical-align: top;\n",
       "    }\n",
       "\n",
       "    .dataframe thead th {\n",
       "        text-align: right;\n",
       "    }\n",
       "</style>\n",
       "<table border=\"1\" class=\"dataframe\">\n",
       "  <thead>\n",
       "    <tr style=\"text-align: right;\">\n",
       "      <th></th>\n",
       "      <th>video</th>\n",
       "      <th>label</th>\n",
       "      <th>start</th>\n",
       "      <th>end</th>\n",
       "    </tr>\n",
       "  </thead>\n",
       "  <tbody>\n",
       "    <tr>\n",
       "      <th>0</th>\n",
       "      <td>1.mp4</td>\n",
       "      <td>JumpingJack</td>\n",
       "      <td>00:15</td>\n",
       "      <td>00:35</td>\n",
       "    </tr>\n",
       "    <tr>\n",
       "      <th>1</th>\n",
       "      <td>1.mp4</td>\n",
       "      <td>WallSitt</td>\n",
       "      <td>00:55</td>\n",
       "      <td>01:15</td>\n",
       "    </tr>\n",
       "    <tr>\n",
       "      <th>2</th>\n",
       "      <td>1.mp4</td>\n",
       "      <td>PushUps</td>\n",
       "      <td>01:36</td>\n",
       "      <td>01:56</td>\n",
       "    </tr>\n",
       "    <tr>\n",
       "      <th>3</th>\n",
       "      <td>1.mp4</td>\n",
       "      <td>Crunches</td>\n",
       "      <td>02:16</td>\n",
       "      <td>02:36</td>\n",
       "    </tr>\n",
       "    <tr>\n",
       "      <th>4</th>\n",
       "      <td>1.mp4</td>\n",
       "      <td>StepUps</td>\n",
       "      <td>02:56</td>\n",
       "      <td>03:16</td>\n",
       "    </tr>\n",
       "    <tr>\n",
       "      <th>...</th>\n",
       "      <td>...</td>\n",
       "      <td>...</td>\n",
       "      <td>...</td>\n",
       "      <td>...</td>\n",
       "    </tr>\n",
       "    <tr>\n",
       "      <th>388</th>\n",
       "      <td>30 - 7 Minute Workout Full Video.mp4</td>\n",
       "      <td>Plank</td>\n",
       "      <td>05:57</td>\n",
       "      <td>06:02</td>\n",
       "    </tr>\n",
       "    <tr>\n",
       "      <th>389</th>\n",
       "      <td>30 - 7 Minute Workout Full Video.mp4</td>\n",
       "      <td>HighKnees</td>\n",
       "      <td>06:40</td>\n",
       "      <td>06:46</td>\n",
       "    </tr>\n",
       "    <tr>\n",
       "      <th>390</th>\n",
       "      <td>30 - 7 Minute Workout Full Video.mp4</td>\n",
       "      <td>Lunges</td>\n",
       "      <td>07:27</td>\n",
       "      <td>07:40</td>\n",
       "    </tr>\n",
       "    <tr>\n",
       "      <th>391</th>\n",
       "      <td>30 - 7 Minute Workout Full Video.mp4</td>\n",
       "      <td>PushUpWR</td>\n",
       "      <td>08:11</td>\n",
       "      <td>08:27</td>\n",
       "    </tr>\n",
       "    <tr>\n",
       "      <th>392</th>\n",
       "      <td>30 - 7 Minute Workout Full Video.mp4</td>\n",
       "      <td>SidePlank</td>\n",
       "      <td>09:00</td>\n",
       "      <td>09:05</td>\n",
       "    </tr>\n",
       "  </tbody>\n",
       "</table>\n",
       "<p>393 rows × 4 columns</p>\n",
       "</div>"
      ],
      "text/plain": [
       "                                    video         label   start     end\n",
       "0                                   1.mp4   JumpingJack   00:15   00:35\n",
       "1                                   1.mp4      WallSitt   00:55   01:15\n",
       "2                                   1.mp4       PushUps   01:36   01:56\n",
       "3                                   1.mp4      Crunches   02:16   02:36\n",
       "4                                   1.mp4       StepUps   02:56   03:16\n",
       "..                                    ...           ...     ...     ...\n",
       "388  30 - 7 Minute Workout Full Video.mp4         Plank   05:57   06:02\n",
       "389  30 - 7 Minute Workout Full Video.mp4     HighKnees   06:40   06:46\n",
       "390  30 - 7 Minute Workout Full Video.mp4        Lunges   07:27   07:40\n",
       "391  30 - 7 Minute Workout Full Video.mp4      PushUpWR   08:11   08:27\n",
       "392  30 - 7 Minute Workout Full Video.mp4     SidePlank   09:00   09:05\n",
       "\n",
       "[393 rows x 4 columns]"
      ]
     },
     "execution_count": 3,
     "metadata": {},
     "output_type": "execute_result"
    }
   ],
   "source": [
    "df"
   ]
  },
  {
   "cell_type": "markdown",
   "id": "c751cc09",
   "metadata": {},
   "source": [
    "### Comment\n",
    "The name of each column are \"stripped\", which means that all space at the beginning or the end is removed. This is done to make it easier to call the columns further in the project.\n",
    "Two new columns are created, containing the starting and ending time of each video in second as an int. This is to make it easier to load the video further in the project."
   ]
  },
  {
   "cell_type": "code",
   "execution_count": 4,
   "id": "2f2c84dd",
   "metadata": {},
   "outputs": [],
   "source": [
    "df.columns = [col.strip() for col in df.columns]\n",
    "\n",
    "for col in ['start', 'end']:\n",
    "    new_col = []\n",
    "    for i in range(len(df)):\n",
    "        minute = df.loc[i, col].strip().split(':')[0]\n",
    "        second = df.loc[i, col].strip().split(':')[1]\n",
    "        new_col.append(60*int(minute)+int(second))\n",
    "    df[col+'_sec'] = new_col  "
   ]
  },
  {
   "cell_type": "code",
   "execution_count": 5,
   "id": "bb2b8955",
   "metadata": {},
   "outputs": [
    {
     "data": {
      "text/html": [
       "<div>\n",
       "<style scoped>\n",
       "    .dataframe tbody tr th:only-of-type {\n",
       "        vertical-align: middle;\n",
       "    }\n",
       "\n",
       "    .dataframe tbody tr th {\n",
       "        vertical-align: top;\n",
       "    }\n",
       "\n",
       "    .dataframe thead th {\n",
       "        text-align: right;\n",
       "    }\n",
       "</style>\n",
       "<table border=\"1\" class=\"dataframe\">\n",
       "  <thead>\n",
       "    <tr style=\"text-align: right;\">\n",
       "      <th></th>\n",
       "      <th>video</th>\n",
       "      <th>label</th>\n",
       "      <th>start</th>\n",
       "      <th>end</th>\n",
       "      <th>start_sec</th>\n",
       "      <th>end_sec</th>\n",
       "    </tr>\n",
       "  </thead>\n",
       "  <tbody>\n",
       "    <tr>\n",
       "      <th>0</th>\n",
       "      <td>1.mp4</td>\n",
       "      <td>JumpingJack</td>\n",
       "      <td>00:15</td>\n",
       "      <td>00:35</td>\n",
       "      <td>15</td>\n",
       "      <td>35</td>\n",
       "    </tr>\n",
       "    <tr>\n",
       "      <th>1</th>\n",
       "      <td>1.mp4</td>\n",
       "      <td>WallSitt</td>\n",
       "      <td>00:55</td>\n",
       "      <td>01:15</td>\n",
       "      <td>55</td>\n",
       "      <td>75</td>\n",
       "    </tr>\n",
       "    <tr>\n",
       "      <th>2</th>\n",
       "      <td>1.mp4</td>\n",
       "      <td>PushUps</td>\n",
       "      <td>01:36</td>\n",
       "      <td>01:56</td>\n",
       "      <td>96</td>\n",
       "      <td>116</td>\n",
       "    </tr>\n",
       "    <tr>\n",
       "      <th>3</th>\n",
       "      <td>1.mp4</td>\n",
       "      <td>Crunches</td>\n",
       "      <td>02:16</td>\n",
       "      <td>02:36</td>\n",
       "      <td>136</td>\n",
       "      <td>156</td>\n",
       "    </tr>\n",
       "    <tr>\n",
       "      <th>4</th>\n",
       "      <td>1.mp4</td>\n",
       "      <td>StepUps</td>\n",
       "      <td>02:56</td>\n",
       "      <td>03:16</td>\n",
       "      <td>176</td>\n",
       "      <td>196</td>\n",
       "    </tr>\n",
       "    <tr>\n",
       "      <th>...</th>\n",
       "      <td>...</td>\n",
       "      <td>...</td>\n",
       "      <td>...</td>\n",
       "      <td>...</td>\n",
       "      <td>...</td>\n",
       "      <td>...</td>\n",
       "    </tr>\n",
       "    <tr>\n",
       "      <th>388</th>\n",
       "      <td>30 - 7 Minute Workout Full Video.mp4</td>\n",
       "      <td>Plank</td>\n",
       "      <td>05:57</td>\n",
       "      <td>06:02</td>\n",
       "      <td>357</td>\n",
       "      <td>362</td>\n",
       "    </tr>\n",
       "    <tr>\n",
       "      <th>389</th>\n",
       "      <td>30 - 7 Minute Workout Full Video.mp4</td>\n",
       "      <td>HighKnees</td>\n",
       "      <td>06:40</td>\n",
       "      <td>06:46</td>\n",
       "      <td>400</td>\n",
       "      <td>406</td>\n",
       "    </tr>\n",
       "    <tr>\n",
       "      <th>390</th>\n",
       "      <td>30 - 7 Minute Workout Full Video.mp4</td>\n",
       "      <td>Lunges</td>\n",
       "      <td>07:27</td>\n",
       "      <td>07:40</td>\n",
       "      <td>447</td>\n",
       "      <td>460</td>\n",
       "    </tr>\n",
       "    <tr>\n",
       "      <th>391</th>\n",
       "      <td>30 - 7 Minute Workout Full Video.mp4</td>\n",
       "      <td>PushUpWR</td>\n",
       "      <td>08:11</td>\n",
       "      <td>08:27</td>\n",
       "      <td>491</td>\n",
       "      <td>507</td>\n",
       "    </tr>\n",
       "    <tr>\n",
       "      <th>392</th>\n",
       "      <td>30 - 7 Minute Workout Full Video.mp4</td>\n",
       "      <td>SidePlank</td>\n",
       "      <td>09:00</td>\n",
       "      <td>09:05</td>\n",
       "      <td>540</td>\n",
       "      <td>545</td>\n",
       "    </tr>\n",
       "  </tbody>\n",
       "</table>\n",
       "<p>393 rows × 6 columns</p>\n",
       "</div>"
      ],
      "text/plain": [
       "                                    video         label   start     end  \\\n",
       "0                                   1.mp4   JumpingJack   00:15   00:35   \n",
       "1                                   1.mp4      WallSitt   00:55   01:15   \n",
       "2                                   1.mp4       PushUps   01:36   01:56   \n",
       "3                                   1.mp4      Crunches   02:16   02:36   \n",
       "4                                   1.mp4       StepUps   02:56   03:16   \n",
       "..                                    ...           ...     ...     ...   \n",
       "388  30 - 7 Minute Workout Full Video.mp4         Plank   05:57   06:02   \n",
       "389  30 - 7 Minute Workout Full Video.mp4     HighKnees   06:40   06:46   \n",
       "390  30 - 7 Minute Workout Full Video.mp4        Lunges   07:27   07:40   \n",
       "391  30 - 7 Minute Workout Full Video.mp4      PushUpWR   08:11   08:27   \n",
       "392  30 - 7 Minute Workout Full Video.mp4     SidePlank   09:00   09:05   \n",
       "\n",
       "     start_sec  end_sec  \n",
       "0           15       35  \n",
       "1           55       75  \n",
       "2           96      116  \n",
       "3          136      156  \n",
       "4          176      196  \n",
       "..         ...      ...  \n",
       "388        357      362  \n",
       "389        400      406  \n",
       "390        447      460  \n",
       "391        491      507  \n",
       "392        540      545  \n",
       "\n",
       "[393 rows x 6 columns]"
      ]
     },
     "execution_count": 5,
     "metadata": {},
     "output_type": "execute_result"
    }
   ],
   "source": [
    "df"
   ]
  },
  {
   "cell_type": "markdown",
   "id": "eff2e26f",
   "metadata": {},
   "source": [
    "# Checking for mistakes in the table"
   ]
  },
  {
   "cell_type": "markdown",
   "id": "4e22018f",
   "metadata": {},
   "source": [
    "### Comment\n",
    "This first code is done to be sure that all the videos named in the annotations are indeed present in the dataset."
   ]
  },
  {
   "cell_type": "code",
   "execution_count": 6,
   "id": "46b9e9b2",
   "metadata": {},
   "outputs": [
    {
     "name": "stdout",
     "output_type": "stream",
     "text": [
      "Video: 18 - 7 Minute Tabata Workout Song | Full Body.mp4  ||| Index: 207\n",
      "Video: 18 - 7 Minute Tabata Workout Song | Full Body.mp4  ||| Index: 208\n",
      "Video: 18 - 7 Minute Tabata Workout Song | Full Body.mp4  ||| Index: 209\n",
      "Video: 18 - 7 Minute Tabata Workout Song | Full Body.mp4  ||| Index: 210\n",
      "Video: 18 - 7 Minute Tabata Workout Song | Full Body.mp4  ||| Index: 211\n",
      "Video: 18 - 7 Minute Tabata Workout Song | Full Body.mp4  ||| Index: 212\n",
      "Video: 18 - 7 Minute Tabata Workout Song | Full Body.mp4  ||| Index: 213\n",
      "Video: 18 - 7 Minute Tabata Workout Song | Full Body.mp4  ||| Index: 214\n",
      "Video: 18 - 7 Minute Tabata Workout Song | Full Body.mp4  ||| Index: 215\n",
      "Video: 18 - 7 Minute Tabata Workout Song | Full Body.mp4  ||| Index: 216\n",
      "Video: 18 - 7 Minute Tabata Workout Song | Full Body.mp4  ||| Index: 217\n",
      "Video: 18 - 7 Minute Tabata Workout Song | Full Body.mp4  ||| Index: 218\n",
      "Video: 18 - 7 Minute Tabata Workout Song | Full Body.mp4  ||| Index: 219\n",
      "Video: 18 - 7 Minute Tabata Workout Song | Full Body.mp4  ||| Index: 220\n",
      "Video: 18 - 7 Minute Tabata Workout Song | Full Body.mp4  ||| Index: 221\n",
      "Video: 22 - 7 Minute Workout Song (Tabata Songs)  ||| Index: 266\n"
     ]
    }
   ],
   "source": [
    "annotated_videos = list(df.loc[:, 'video'])\n",
    "dataset_videos = os.listdir('./Raw_data/')\n",
    "for index, video in enumerate(annotated_videos):\n",
    "    if video in dataset_videos:\n",
    "        pass\n",
    "    else:\n",
    "        print('Video: %s  ||| Index: %d' % (video, index))"
   ]
  },
  {
   "cell_type": "markdown",
   "id": "034b6b92",
   "metadata": {},
   "source": [
    "### Result\n",
    "After a manual check, video 18 is indeed not present in the dataset, but video 22 is: there is just a '.mp4' missing at the end of the file name."
   ]
  },
  {
   "cell_type": "code",
   "execution_count": 7,
   "id": "42462763",
   "metadata": {},
   "outputs": [],
   "source": [
    "#Correct the file name of 22nd video\n",
    "df.loc[266, 'video'] = df.loc[266, 'video'] + '.mp4'"
   ]
  },
  {
   "cell_type": "code",
   "execution_count": 8,
   "id": "3eac5f07",
   "metadata": {},
   "outputs": [
    {
     "name": "stdout",
     "output_type": "stream",
     "text": [
      "Video: 18 - 7 Minute Tabata Workout Song | Full Body.mp4  ||| Index: 207\n",
      "Video: 18 - 7 Minute Tabata Workout Song | Full Body.mp4  ||| Index: 208\n",
      "Video: 18 - 7 Minute Tabata Workout Song | Full Body.mp4  ||| Index: 209\n",
      "Video: 18 - 7 Minute Tabata Workout Song | Full Body.mp4  ||| Index: 210\n",
      "Video: 18 - 7 Minute Tabata Workout Song | Full Body.mp4  ||| Index: 211\n",
      "Video: 18 - 7 Minute Tabata Workout Song | Full Body.mp4  ||| Index: 212\n",
      "Video: 18 - 7 Minute Tabata Workout Song | Full Body.mp4  ||| Index: 213\n",
      "Video: 18 - 7 Minute Tabata Workout Song | Full Body.mp4  ||| Index: 214\n",
      "Video: 18 - 7 Minute Tabata Workout Song | Full Body.mp4  ||| Index: 215\n",
      "Video: 18 - 7 Minute Tabata Workout Song | Full Body.mp4  ||| Index: 216\n",
      "Video: 18 - 7 Minute Tabata Workout Song | Full Body.mp4  ||| Index: 217\n",
      "Video: 18 - 7 Minute Tabata Workout Song | Full Body.mp4  ||| Index: 218\n",
      "Video: 18 - 7 Minute Tabata Workout Song | Full Body.mp4  ||| Index: 219\n",
      "Video: 18 - 7 Minute Tabata Workout Song | Full Body.mp4  ||| Index: 220\n",
      "Video: 18 - 7 Minute Tabata Workout Song | Full Body.mp4  ||| Index: 221\n"
     ]
    }
   ],
   "source": [
    "#Check that the 22nd video doesn't appear anymore and note the indexes of the lines that need to be dropped\n",
    "annotated_videos = list(df.loc[:, 'video'])\n",
    "dataset_videos = os.listdir('./Raw_data/')\n",
    "indexes = []\n",
    "for index, video in enumerate(annotated_videos):\n",
    "    if video in dataset_videos:\n",
    "        pass\n",
    "    else:\n",
    "        print('Video: %s  ||| Index: %d' % (video, index))\n",
    "        indexes.append(index)"
   ]
  },
  {
   "cell_type": "code",
   "execution_count": 9,
   "id": "cb3fbf2b",
   "metadata": {},
   "outputs": [],
   "source": [
    "#Drop the lines corresponding to video 18 that isn't in the dataset\n",
    "df.drop(index = indexes, inplace = True)\n",
    "df.reset_index(drop = True, inplace = True)"
   ]
  },
  {
   "cell_type": "markdown",
   "id": "33af75d2",
   "metadata": {},
   "source": [
    "# Sort the dataset"
   ]
  },
  {
   "cell_type": "markdown",
   "id": "8fe70cf3",
   "metadata": {},
   "source": [
    "This part sort the dataset according to the video name and the starting point. This is done to facilitate and optimize the loading of the dataset further in the project."
   ]
  },
  {
   "cell_type": "code",
   "execution_count": 10,
   "id": "575b5fb2",
   "metadata": {},
   "outputs": [],
   "source": [
    "#Sort the dataframe according to the video name and the starting time of each activity\n",
    "df.sort_values(['video', 'start_sec'], ascending = [True, True], inplace = True)\n",
    "df.reset_index(drop = True, inplace = True)"
   ]
  },
  {
   "cell_type": "markdown",
   "id": "973b991d",
   "metadata": {},
   "source": [
    "# Check time consistency"
   ]
  },
  {
   "cell_type": "markdown",
   "id": "4b12d529",
   "metadata": {},
   "source": [
    "Mistake about time are checked; whether two activities are done simultaneously or not and whether the starting time of an activity does not arrive after its ending time."
   ]
  },
  {
   "cell_type": "code",
   "execution_count": 11,
   "id": "a276823a",
   "metadata": {},
   "outputs": [
    {
     "name": "stdout",
     "output_type": "stream",
     "text": [
      "Beginning after the end:\n",
      "Video: 15.mp4 ||| Index: 94 ||| Activity:  Plank  \n",
      "\n",
      "Beginning after the end:\n",
      "Video: 16.mp4 ||| Index: 101 ||| Activity:  Plank  \n",
      "\n",
      "Beginning after the end:\n",
      "Video: 17.mp4 ||| Index: 105 ||| Activity:  PushUps  \n",
      "\n",
      "Beginning after the end:\n",
      "Video: 19 - 7 Minute Workout Song wtimer  Tabata Songs_480p.mp4 ||| Index: 119 ||| Activity:  PushUps  \n",
      "\n",
      "Beginning after the end:\n",
      "Video: 21 - Tabata 7 minute workout_480p.mp4 ||| Index: 154 ||| Activity:  Plank  \n",
      "\n",
      "Beginning after the end:\n",
      "Video: 22 - 7 Minute Workout Song (Tabata Songs).mp4 ||| Index: 169 ||| Activity:  Plank  \n",
      "\n",
      "Beginning after the end:\n",
      "Video: 23 -7 Minute Workout Song KIDS  7.mp4 ||| Index: 182 ||| Activity:  Plank  \n",
      "\n",
      "Beginning after the end:\n",
      "Video: 24 - 7 Minute Workout  Tabata Songs wtimer_480p.mp4 ||| Index: 197 ||| Activity:  Plank  \n",
      "\n",
      "Beginning after the end:\n",
      "Video: 25 - I tried Inger Houghton's 7 Minute Workout Tabata Songs.mp4 ||| Index: 212 ||| Activity:  Plank  \n",
      "\n",
      "Beginning after the end:\n",
      "Video: 26 - 7 Minute Workout Song wtimer TABATA SONGS_480p.mp4 ||| Index: 227 ||| Activity:  Plank  \n",
      "\n",
      "Beginning after the end:\n",
      "Video: 28 - Mitray from RusUkraine  7 minute workout  Tabata Song_480p.mp4 ||| Index: 255 ||| Activity:  Plank  \n",
      "\n"
     ]
    }
   ],
   "source": [
    "videos = list(df.loc[:, 'video'])\n",
    "former_video = ''\n",
    "for ind, video in enumerate(videos):\n",
    "    if video != former_video:\n",
    "        pass\n",
    "    else:\n",
    "        end_former = df.loc[ind-1, 'end_sec']\n",
    "        start_current = df.loc[ind, 'start_sec']\n",
    "        end_current = df.loc[ind, 'end_sec']\n",
    "        \n",
    "        #Checking that an activity doesn't begin before the previous activity finishes\n",
    "        if end_former >= start_current:\n",
    "            print('Two activities at the same time for:\\nVideo: %s ||| Index: %d \\n' % (video, ind))\n",
    "        \n",
    "        #Checking that the starting time of an activity doesn't come after the ending time of the same activity\n",
    "        if start_current >= end_current:\n",
    "            print('Beginning after the end:\\nVideo: %s ||| Index: %d ||| Activity: %s  \\n' % (video, ind, df.loc[ind, 'label']))\n",
    "    former_video = video"
   ]
  },
  {
   "cell_type": "markdown",
   "id": "bc67886b",
   "metadata": {},
   "source": [
    "### Result\n",
    "There are a lot of time inconsistencies. The corrections are made by checking manually the times of all these activities noted as mistake. "
   ]
  },
  {
   "cell_type": "code",
   "execution_count": 12,
   "id": "a2fb7c18",
   "metadata": {},
   "outputs": [],
   "source": [
    "#Video 15\n",
    "df.loc[94, 'end'] = '5:10'\n",
    "df.loc[94, 'end_sec'] = 5*60 + 10\n",
    "\n",
    "#Video 16\n",
    "df.loc[101, 'end'] = '6:12'\n",
    "df.loc[101, 'end_sec'] = 6*60 + 12\n",
    "\n",
    "#Video 17\n",
    "df.loc[105, 'end'] = '2:09'\n",
    "df.loc[105, 'end_sec'] = 2*60 + 9\n",
    "\n",
    "#Video 19\n",
    "df.loc[119, 'end'] = '2:05'\n",
    "df.loc[119, 'end_sec'] = 2*60 + 5\n",
    "\n",
    "#Video 21\n",
    "df.loc[154, 'end'] = '5:16'\n",
    "df.loc[154, 'end_sec'] = 5*60 + 16\n",
    "\n",
    "#Video 22\n",
    "df.loc[169, 'end'] = '5:16'\n",
    "df.loc[169, 'end_sec'] = 5*60 + 16\n",
    "\n",
    "#Video 23\n",
    "df.loc[182, 'end'] = '5:10'\n",
    "df.loc[182, 'end_sec'] = 5*60 + 10\n",
    "\n",
    "#Video 24\n",
    "df.loc[197, 'end'] = '5:16'\n",
    "df.loc[197, 'end_sec'] = 5*60 + 16\n",
    "\n",
    "#Video 25\n",
    "df.loc[212, 'end'] = '5:16'\n",
    "df.loc[212, 'end_sec'] = 5*60 + 16\n",
    "\n",
    "#Video 26\n",
    "df.loc[227, 'end'] = '5:16'\n",
    "df.loc[227, 'end_sec'] = 5*60 + 16\n",
    "\n",
    "#Video 28\n",
    "df.loc[255, 'end'] = '5:16'\n",
    "df.loc[255, 'end_sec'] = 5*60 + 16"
   ]
  },
  {
   "cell_type": "markdown",
   "id": "50ffae6f",
   "metadata": {},
   "source": [
    "# Class distribution"
   ]
  },
  {
   "cell_type": "markdown",
   "id": "0049c907",
   "metadata": {},
   "source": [
    "This part focus on the class distribution and how well the dataset is balanced."
   ]
  },
  {
   "cell_type": "code",
   "execution_count": 13,
   "id": "a9f82cab",
   "metadata": {},
   "outputs": [],
   "source": [
    "#Build dictionnary conataining information about class distribution\n",
    "activities = {}\n",
    "for ind, activity in enumerate(list(df.loc[:, 'label'])):\n",
    "    activity = activity.strip()\n",
    "    df.loc[ind, 'label']=activity #save the striped label in the dataframe\n",
    "    if activity in activities.keys():\n",
    "        activities[activity] = activities[activity] + 1 \n",
    "    else:\n",
    "        activities[activity] = 1"
   ]
  },
  {
   "cell_type": "code",
   "execution_count": 14,
   "id": "037ee716",
   "metadata": {},
   "outputs": [
    {
     "name": "stdout",
     "output_type": "stream",
     "text": [
      "Number of classes: 13\n"
     ]
    },
    {
     "data": {
      "image/png": "[encoded data removed]",
      "text/plain": [
       "<Figure size 640x480 with 1 Axes>"
      ]
     },
     "metadata": {},
     "output_type": "display_data"
    }
   ],
   "source": [
    "#Display class distribution\n",
    "print(\"Number of classes: \" + str(len(activities.keys())))\n",
    "names = list(activities.keys())\n",
    "values = list(activities.values())\n",
    "plt.figure()\n",
    "plt.bar(range(len(activities)), values, tick_label = names)\n",
    "plt.title('Class distribution')\n",
    "plt.xticks(rotation = 'vertical')\n",
    "plt.show()"
   ]
  },
  {
   "cell_type": "markdown",
   "id": "409c8153",
   "metadata": {},
   "source": [
    "### Result\n",
    "The class are pretty well balanced, with maybe a small over-representation of the Walking and the SidePlank."
   ]
  },
  {
   "cell_type": "markdown",
   "id": "03408b63",
   "metadata": {},
   "source": [
    "# Save the modified dataframe"
   ]
  },
  {
   "cell_type": "markdown",
   "id": "d5f4066a",
   "metadata": {},
   "source": [
    "The cleaned annotations table is now saved, and this is the one that will be used after."
   ]
  },
  {
   "cell_type": "code",
   "execution_count": 15,
   "id": "30a9419f",
   "metadata": {},
   "outputs": [],
   "source": [
    "df.to_csv('Annotations_cleaned.csv', index = False)"
   ]
  }
 ],
 "metadata": {
  "kernelspec": {
   "display_name": "Python 3 (ipykernel)",
   "language": "python",
   "name": "python3"
  },
  "language_info": {
   "codemirror_mode": {
    "name": "ipython",
    "version": 3
   },
   "file_extension": ".py",
   "mimetype": "text/x-python",
   "name": "python",
   "nbconvert_exporter": "python",
   "pygments_lexer": "ipython3",
   "version": "3.9.13"
  }
 },
 "nbformat": 4,
 "nbformat_minor": 5
}
