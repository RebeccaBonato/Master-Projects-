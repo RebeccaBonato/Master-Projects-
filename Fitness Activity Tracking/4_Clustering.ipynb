{
 "cells": [
  {
   "cell_type": "markdown",
   "id": "478a0474",
   "metadata": {},
   "source": [
    "# Libraries"
   ]
  },
  {
   "cell_type": "code",
   "execution_count": 1,
   "id": "d0f51435",
   "metadata": {},
   "outputs": [],
   "source": [
    "import os\n",
    "import pandas as pd\n",
    "import numpy as np\n",
    "from tslearn.generators import random_walks\n",
    "from tslearn.clustering import TimeSeriesKMeans"
   ]
  },
  {
   "cell_type": "markdown",
   "id": "dd7fe2ef",
   "metadata": {},
   "source": [
    "# Select activity"
   ]
  },
  {
   "cell_type": "markdown",
   "id": "56616a4b",
   "metadata": {},
   "source": [
    "In this part, only the squat activity is selected, in the training, the validation and the testing dataset."
   ]
  },
  {
   "cell_type": "code",
   "execution_count": 2,
   "id": "e8d40a88",
   "metadata": {},
   "outputs": [],
   "source": [
    "squat = ['./CSV_thunder/' + i for i in os.listdir('./CSV_thunder') if 'Squat' in i] + ['./CSV2_thunder/' + i for i in os.listdir('./CSV2_thunder') if 'Squat' in i]"
   ]
  },
  {
   "cell_type": "code",
   "execution_count": 3,
   "id": "09537260",
   "metadata": {
    "scrolled": true
   },
   "outputs": [],
   "source": [
    "x_dataset = np.zeros((len(squat), 150, 34))\n",
    "for ind,file in enumerate(squat):\n",
    "    df = pd.read_csv(file, index_col = 0)\n",
    "    df.drop('Frame_number', inplace = True)\n",
    "    dfT =df.transpose()\n",
    "    x_dataset[ind,:,:] = dfT.to_numpy()"
   ]
  },
  {
   "cell_type": "markdown",
   "id": "32510600",
   "metadata": {},
   "source": [
    "# Cluster"
   ]
  },
  {
   "cell_type": "markdown",
   "id": "347bafe4",
   "metadata": {},
   "source": [
    "The goal here is to create 3 clusters with every videos of squats thanks to a KMean TimeSeries model. The idea would be that the clusters would reflect the fitness accuracy, with the cluster: \"correct realisation\", \"medium realisation\" and \"incorrect realisation\".\n",
    "<br>\n",
    "We could expect that the clusters reflect fitness accuracy as we give relevant features (joint coordinate) to evaluate fitness accuracy. Some other features, like the angle of the joint would be better to expect the cluster to the one we want."
   ]
  },
  {
   "cell_type": "code",
   "execution_count": 4,
   "id": "026841a9",
   "metadata": {},
   "outputs": [],
   "source": [
    "km_dba = TimeSeriesKMeans(n_clusters=3, metric=\"dtw\", max_iter=5, max_iter_barycenter=5, random_state=0).fit_predict(x_dataset)"
   ]
  },
  {
   "cell_type": "code",
   "execution_count": 5,
   "id": "27a63850",
   "metadata": {},
   "outputs": [],
   "source": [
    "cluster_0 = [squat[ind].replace('./CSV_thunder/', '') for ind, i in enumerate(km_dba) if i==0]\n",
    "cluster_1 = [squat[ind].replace('./CSV_thunder/', '') for ind, i in enumerate(km_dba) if i==1]\n",
    "cluster_2 = [squat[ind].replace('./CSV_thunder/', '') for ind, i in enumerate(km_dba) if i==2]        "
   ]
  },
  {
   "cell_type": "code",
   "execution_count": 6,
   "id": "9f7cd1ba",
   "metadata": {},
   "outputs": [
    {
     "data": {
      "text/plain": [
       "[\"Squats_210_25 - I tried Inger Houghton's 7 Minute Workout Tabata Songs.csv\",\n",
       " 'Squats_296_30 - 7 Minute Workout Full Video.csv',\n",
       " 'Squats_308_4.csv',\n",
       " 'Squats_48_12.csv',\n",
       " 'Squats_77_14.csv',\n",
       " 'Squats_92_15.csv',\n",
       " './CSV2_thunder/Squats_268_55 - The 7 Minute WorkoutFact or Fiction_480p.csv',\n",
       " './CSV2_thunder/Squats_52_35 -7 Minute workout song   wtimer  tabata song_480p.csv']"
      ]
     },
     "execution_count": 6,
     "metadata": {},
     "output_type": "execute_result"
    }
   ],
   "source": [
    "cluster_0"
   ]
  },
  {
   "cell_type": "code",
   "execution_count": 7,
   "id": "ed266e18",
   "metadata": {},
   "outputs": [
    {
     "data": {
      "text/plain": [
       "['Squats_122_19 - 7 Minute Workout Song wtimer  Tabata Songs_480p.csv',\n",
       " 'Squats_136_20 - 7 minute workout Full bodySONG_480p.csv',\n",
       " 'Squats_152_21 - Tabata 7 minute workout_480p.csv',\n",
       " 'Squats_167_22 - 7 Minute Workout Song (Tabata Songs).csv',\n",
       " 'Squats_181_23 -7 Minute Workout Song KIDS  7.csv',\n",
       " 'Squats_195_24 - 7 Minute Workout  Tabata Songs wtimer_480p.csv',\n",
       " 'Squats_21_10.csv',\n",
       " 'Squats_253_28 - Mitray from RusUkraine  7 minute workout  Tabata Song_480p.csv',\n",
       " \"Squats_268_29 - Herbalife's 7 Minute WorkOut.csv\",\n",
       " 'Squats_283_3.csv',\n",
       " 'Squats_323_5.csv',\n",
       " 'Squats_33_11.csv',\n",
       " 'Squats_356_7.csv',\n",
       " 'Squats_368_8.csv',\n",
       " 'Squats_64_13.csv',\n",
       " './CSV2_thunder/Squats_121_42  - The Perfect 7Minute Workout_480p.csv',\n",
       " './CSV2_thunder/Squats_135_43 - The Scientific 7minute Workout.csv',\n",
       " './CSV2_thunder/Squats_15_32 - 7 minute Workout TABATA song_360p.csv',\n",
       " './CSV2_thunder/Squats_172_46 -Scientific 7Minute or 7Minute Scientific  Workout_480p.csv',\n",
       " './CSV2_thunder/Squats_208_49 - 7Minute Workout_480p.csv',\n",
       " './CSV2_thunder/Squats_221_51 - Follow in Real Time  Scientific 7Minute Workout  Old Iron Fitness_360p.csv',\n",
       " './CSV2_thunder/Squats_233_52 -Scientific 7 Minute Workout Cut Short_480p.csv',\n",
       " './CSV2_thunder/Squats_241_53 -7 Minute Scientific Workout.csv',\n",
       " './CSV2_thunder/Squats_281_56 - MDG Week  7 The Scientific 7Minute Workout_360p.csv',\n",
       " './CSV2_thunder/Squats_39_34 - The 7 Minutes Workout Espalda.csv',\n",
       " './CSV2_thunder/Squats_65_36 - 7 Minute Workout Song_480p.csv',\n",
       " './CSV2_thunder/Squats_99_39 - The Scientific 7 Minute Workout- FULL Workout.csv']"
      ]
     },
     "execution_count": 7,
     "metadata": {},
     "output_type": "execute_result"
    }
   ],
   "source": [
    "cluster_1"
   ]
  },
  {
   "cell_type": "code",
   "execution_count": 8,
   "id": "e1064584",
   "metadata": {},
   "outputs": [
    {
     "data": {
      "text/plain": [
       "['Squats_109_17.csv',\n",
       " 'Squats_225_26 - 7 Minute Workout Song wtimer TABATA SONGS_480p.csv',\n",
       " 'Squats_240_27 -Scientific 7 Minute Workout_480p.csv',\n",
       " 'Squats_340_6.csv',\n",
       " 'Squats_7_1.csv',\n",
       " './CSV2_thunder/Squats_109_41 - The Scientific 7Minute Workout_1080p.csv',\n",
       " './CSV2_thunder/Squats_147_44- The 7 Minute Workout.csv',\n",
       " './CSV2_thunder/Squats_159_45 - THE SCIENTIFIC 7 MINUTE WORKOUT 2.csv',\n",
       " './CSV2_thunder/Squats_186_47 - The 7 Minute Scientific Workout_1080p.csv',\n",
       " './CSV2_thunder/Squats_197_48 - 7 Minute Workout Challenge FULL Workout.csv',\n",
       " './CSV2_thunder/Squats_256_54 - 7minute workout  Prospect Park Loop Brooklyn NYC  Absolute WIN_480p.csv',\n",
       " './CSV2_thunder/Squats_28_33 - Trying The 7 Minute Workout App.csv',\n",
       " './CSV2_thunder/Squats_293_59 -  The Scientific 7minute Workout_1080p.csv',\n",
       " './CSV2_thunder/Squats_306_60 -7minute urban workout  Prospect Place Brooklyn NYC  Absolute WIN_1080p.csv',\n",
       " './CSV2_thunder/Squats_4_31 - Interval Training ft 7 Mins Workout Song_1080p.csv',\n",
       " './CSV2_thunder/Squats_78_37 - the 7 minute workout song Tabata_1080p.csv',\n",
       " './CSV2_thunder/Squats_90_38 - Tabata song 7 minute workout_1080p.csv']"
      ]
     },
     "execution_count": 8,
     "metadata": {},
     "output_type": "execute_result"
    }
   ],
   "source": [
    "cluster_2"
   ]
  },
  {
   "cell_type": "markdown",
   "id": "2f983cb3",
   "metadata": {},
   "source": [
    "### Results\n",
    "After checking the videos from the different clusters, it seems that the clusters don't represent the fitness accuracy, but rather the position of the subject relatively to the camera. Indeed, one cluster seems to have all videos where the camera rotates around the subject. And the two others are different in the way the subject is position in the image.\n",
    "<br>\n",
    "Therefore our goal is not reached, but it is due to the wide diversity of the dataset. We could expect better results in a dataset where all the videos are standardized."
   ]
  }
 ],
 "metadata": {
  "kernelspec": {
   "display_name": "Python 3 (ipykernel)",
   "language": "python",
   "name": "python3"
  },
  "language_info": {
   "codemirror_mode": {
    "name": "ipython",
    "version": 3
   },
   "file_extension": ".py",
   "mimetype": "text/x-python",
   "name": "python",
   "nbconvert_exporter": "python",
   "pygments_lexer": "ipython3",
   "version": "3.9.13"
  }
 },
 "nbformat": 4,
 "nbformat_minor": 5
}
